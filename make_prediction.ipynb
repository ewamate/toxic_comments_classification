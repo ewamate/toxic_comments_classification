{
 "cells": [
  {
   "cell_type": "code",
   "execution_count": 1,
   "metadata": {
    "colab": {
     "base_uri": "https://localhost:8080/",
     "height": 33
    },
    "colab_type": "code",
    "id": "2zNnflITvuWS",
    "outputId": "c9121952-dd4f-496f-a67b-7c1b3754c58a"
   },
   "outputs": [],
   "source": [
    "import json\n",
    "import requests\n",
    "import pandas as pd\n",
    "import numpy as np"
   ]
  },
  {
   "cell_type": "code",
   "execution_count": 2,
   "metadata": {},
   "outputs": [
    {
     "name": "stdout",
     "output_type": "stream",
     "text": [
      "{\"signature_name\": \"serving_default\", \"instances\": [[0, 0, 0, 0, 0, 0, 0, 0, 0, 0, 0, 0, 0, 0, 0, 0, 0, 0, 0, 0, 0, 0, 0, 0, 0, 0, 0, 0, 0, 0, 0, 0, 0, 0, 0, 0, 0, 0, 0, 0, 0, 0, 0, 0, 0, 0, 0, 0, 0, 0, 0, 0, 0, 0, 0, 0, 0, 0, 0, 0, 0, 0, 0, 0, 0, 0, 0, 0, 0, 0, 0, 0, 0, 0, 0, 0, 0, 0, 0, 0, 0, 0, 0, 0, 0, 0, 0, 0, 0, 0, 0, 0, 0, 0, 0, 0, 0, 0, 0, 0, 0, 0, 0, 0, 0, 0, 0, 0, 0, 0, 0, 0, 0, 0, 0, 0, 0, 0, 0, 0, 0, 0, 0, 0, 0, 0, 0, 0, 0, 0, 0, 0, 0, 0, 0, 0, 0, 0, 0, 0, 0, 0, 0, 0, 0, 0, 0, 0, 0, 0, 0, 0, 0, 0, 0, 0, 0, 0, 0, 0, 0, 0, 0, 0, 0, 0, 0, 0, 0, 0, 0, 0, 0, 0, 0, 0, 0, 0, 0, 0, 0, 0, 0, 0, 0, 0, 0, 0, 0, 0, 0, 0, 0, 0, 0, 0, 0, 0, 0, 0, 0, 0, 0, 0, 0, 0, 0, 0, 0, 0, 0, 0, 0, 0, 0, 0, 0, 0, 0, 0, 0, 0, 0, 0, 0, 0, 0, 0, 0, 0, 0, 0, 0, 0, 0, 0, 0, 0, 0, 0, 0, 0, 0, 0, 0, 0, 0, 0, 0, 0, 0, 0, 0, 0, 0, 0, 0, 0, 0, 0, 0, 0, 0, 0, 0, 0, 0, 0, 0, 0, 0, 0, 0, 0, 0, 0, 0, 0, 0, 0, 0, 0, 0, 0, 0, 0, 0, 0, 0, 0, 0, 0, 0, 0, 0, 0, 0, 0, 0, 0]]}\n"
     ]
    }
   ],
   "source": [
    "input_data_json = json.dumps({\n",
    "    \"signature_name\": \"serving_default\",\n",
    "    \"instances\": [[0 for _ in range(300)]],\n",
    "})\n",
    "print(input_data_json)"
   ]
  },
  {
   "cell_type": "code",
   "execution_count": 3,
   "metadata": {
    "colab": {
     "base_uri": "https://localhost:8080/",
     "height": 83
    },
    "colab_type": "code",
    "id": "W0-b6f32vyNB",
    "outputId": "99befbd0-4b30-4326-90b6-d14ede306d02"
   },
   "outputs": [
    {
     "data": {
      "text/plain": [
       "{'model_version_status': [{'version': '1',\n",
       "   'state': 'AVAILABLE',\n",
       "   'status': {'error_code': 'OK', 'error_message': ''}}]}"
      ]
     },
     "execution_count": 3,
     "metadata": {},
     "output_type": "execute_result"
    }
   ],
   "source": [
    "SERVER_URL = 'http://35.228.162.1:8501/v1/models/model_easier'\n",
    "\n",
    "response = requests.get(SERVER_URL)\n",
    "response.raise_for_status()\n",
    "response = response.json()\n",
    "\n",
    "response"
   ]
  },
  {
   "cell_type": "code",
   "execution_count": 4,
   "metadata": {},
   "outputs": [
    {
     "data": {
      "text/plain": [
       "{'predictions': [[0.792471, 0.207529]]}"
      ]
     },
     "execution_count": 4,
     "metadata": {},
     "output_type": "execute_result"
    }
   ],
   "source": [
    "SERVER_URL = 'http://35.228.162.1:8501/v1/models/model_easier:predict'\n",
    "            \n",
    "response = requests.post(SERVER_URL, data=input_data_json)\n",
    "response = response.json()\n",
    "\n",
    "response"
   ]
  },
  {
   "cell_type": "code",
   "execution_count": 5,
   "metadata": {},
   "outputs": [],
   "source": [
    "import re\n",
    "from nltk.stem import SnowballStemmer\n",
    "\n",
    "def clean_text(text):\n",
    "    special_character_removal=re.compile(r'[^?!a-z ]',re.IGNORECASE)\n",
    "    replace_numbers=re.compile(r'\\d+',re.IGNORECASE)\n",
    "\n",
    "    text = text.lower()\n",
    "    text = re.sub(r\"https?:\\/\\/(www\\.)?[-a-zA-Z0-9@:%._\\+~#=]{2,256}\\.[a-z]{2,6}\\b([-a-zA-Z0-9@:%_\\+.~#?&//=]*)\", \"\", text)\n",
    "    text = re.sub(r\"(25[0-5]|2[0-4][0-9]|[01]?[0-9][0-9]?)(\\.(25[0-5]|2[0-4][0-9]|[01]?[0-9][0-9]?)){3}\", \"\", text)\n",
    "      \n",
    "    text = re.sub(r\"image:[a-zA-Z0-9]*\\.jpg\", \" \", text)\n",
    "    text = re.sub(r\"image:[a-zA-Z0-9]*\\.png\", \" \", text)\n",
    "    text = re.sub(r\"image:[a-zA-Z0-9]*\\.bmp\", \" \", text)\n",
    "    text = re.sub(r\"image:[a-zA-Z0-9]*\\.svg\", \" \", text)\n",
    "    text = re.sub(r\"image:[a-zA-Z0-9]*\\.gif\", \" \", text)\n",
    "\n",
    "    text = re.sub(r\"\\n\", \" \", text)\n",
    "    text = re.sub(r\"what's\", \"what is \", text)\n",
    "    text = re.sub(r\"\\'s\", \" \", text)\n",
    "    text = re.sub(r\"\\'ve\", \" have \", text)\n",
    "    text = re.sub(r\"can't\", \"cannot \", text)\n",
    "    text = re.sub(r\"n't\", \" not \", text)\n",
    "    text = re.sub(r\"i'm\", \"i am \", text)\n",
    "    text = re.sub(r\"\\'re\", \" are \", text)\n",
    "    text = re.sub(r\"\\'d\", \" would \", text)\n",
    "    text = re.sub(r\"\\'ll\", \" will \", text)\n",
    "    text = re.sub(r\"!\", \" ! \", text)\n",
    "    text = re.sub(r\"\\?\", \" ? \", text)\n",
    "    text = re.sub(r\"\\.\", \" \", text)\n",
    "    text = re.sub(r\":\", \" \", text)\n",
    "    text = re.sub(r\"(\\d+)(k)\", r\"\\g<1>000\", text)\n",
    "    text = re.sub(r\"e - mail\", \"email\", text)\n",
    "    text = re.sub(r\"e-mail\", \"email\", text)\n",
    "    text = re.sub(r\"j k\", \"jk\", text)\n",
    "    text = re.sub(r\"\\s{2,}\", \" \", text)\n",
    "    text = re.sub(r\"f*ck\", \"fuck\", text)\n",
    "    text = replace_numbers.sub(' ', text)\n",
    "    text = special_character_removal.sub('',text)\n",
    "    \n",
    "    text = text.split()\n",
    "    stemmer = SnowballStemmer('english')\n",
    "    stemmed_words = [stemmer.stem(word) for word in text]\n",
    "    text = \" \".join(stemmed_words)\n",
    "    \n",
    "    if text == '':\n",
    "      text = 'nice'\n",
    "\n",
    "    return text\n",
    "\n",
    "\n",
    "def transform(sentence, enc):\n",
    "  empty = 0\n",
    "  sent = []\n",
    "  i = 0\n",
    "  for word in sentence.split():\n",
    "    if word in enc and i < 300:\n",
    "      sent += [enc[word]]\n",
    "      i += 1\n",
    "      \n",
    "  if i < 300:\n",
    "    while i < 300:\n",
    "      sent += [empty]\n",
    "      i += 1\n",
    "  return sent\n"
   ]
  },
  {
   "cell_type": "code",
   "execution_count": 8,
   "metadata": {
    "colab": {},
    "colab_type": "code",
    "id": "cfArpHubxC8z"
   },
   "outputs": [
    {
     "name": "stdout",
     "output_type": "stream",
     "text": [
      "134052\n",
      "{'predictions': [[0.997974, 0.00202634], [0.986116, 0.0138839], [0.978418, 0.021582], [0.998422, 0.00157838], [0.000338, 0.999662], [0.997729, 0.00227145], [0.992461, 0.00753893], [0.160956, 0.839044]]}\n"
     ]
    },
    {
     "data": {
      "text/plain": [
       "array([0, 0, 0, 0, 1, 0, 0, 1])"
      ]
     },
     "execution_count": 8,
     "metadata": {},
     "output_type": "execute_result"
    }
   ],
   "source": [
    "FILENAME_IN = 'data.txt'\n",
    "FILENAME_OUT = 'res.txt'\n",
    "SERVER_URL = 'http://35.228.162.1:8501/v1/models/model_easier:predict'\n",
    "\n",
    "\n",
    "def query_for_answers(FILENAME_IN, SERVER_URL):\n",
    "    lines = [line.rstrip('\\n') for line in open(FILENAME_IN)]\n",
    "    lines = [clean_text(line) for line in lines]\n",
    "    \n",
    "    encodings = 'word_encodings.csv'\n",
    "    encodings_df = pd.read_csv(encodings)\n",
    "    \n",
    "    enc = {}\n",
    "    for word, code in zip(encodings_df['word'], encodings_df['code']):#[:134156]:\n",
    "      enc[word] = code\n",
    "    print(len(encodings_df['word']))\n",
    "    \n",
    "    in_data = [transform(sent, enc) for sent in lines]\n",
    "    \n",
    "    input_data_json = json.dumps({\n",
    "    \"signature_name\": \"serving_default\",\n",
    "    \"instances\": in_data})\n",
    "\n",
    "    response = requests.post(SERVER_URL, data=input_data_json)\n",
    "    response = response.json()\n",
    "    \n",
    "    print(response)\n",
    "    y_proba = np.array(response[\"predictions\"])\n",
    "    answers = np.argmax(y_proba, axis=-1)\n",
    "    \n",
    "    with open(FILENAME_OUT, 'w') as f:  \n",
    "        for a in answers:\n",
    "            f.write(str(a) + '\\n')\n",
    "        \n",
    "    return answers\n",
    "\n",
    "query_for_answers(FILENAME_IN, SERVER_URL)"
   ]
  },
  {
   "cell_type": "code",
   "execution_count": null,
   "metadata": {},
   "outputs": [],
   "source": []
  }
 ],
 "metadata": {
  "colab": {
   "collapsed_sections": [],
   "name": "clean_data.ipynb",
   "provenance": [],
   "version": "0.3.2"
  },
  "kernelspec": {
   "display_name": "Python 3",
   "language": "python",
   "name": "python3"
  },
  "language_info": {
   "codemirror_mode": {
    "name": "ipython",
    "version": 3
   },
   "file_extension": ".py",
   "mimetype": "text/x-python",
   "name": "python",
   "nbconvert_exporter": "python",
   "pygments_lexer": "ipython3",
   "version": "3.6.7"
  }
 },
 "nbformat": 4,
 "nbformat_minor": 1
}
