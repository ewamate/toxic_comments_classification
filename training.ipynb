{
 "cells": [
  {
   "cell_type": "code",
   "execution_count": 5,
   "metadata": {
    "colab": {
     "base_uri": "https://localhost:8080/",
     "height": 35
    },
    "colab_type": "code",
    "id": "UVkFI4Va86oH",
    "outputId": "27cfbe5c-fe7b-49a9-833a-3af0a9fd382e"
   },
   "outputs": [
    {
     "name": "stdout",
     "output_type": "stream",
     "text": [
      "Drive already mounted at /content/gdrive; to attempt to forcibly remount, call drive.mount(\"/content/gdrive\", force_remount=True).\n"
     ]
    }
   ],
   "source": [
    "import os\n",
    "import sys\n",
    "import math\n",
    "import time\n",
    "import itertools\n",
    "\n",
    "import tensorflow as tf\n",
    "import random\n",
    "import numpy as np\n",
    "import pandas as pd\n",
    "import matplotlib.pyplot as plt\n",
    "\n",
    "from tensorflow import keras\n",
    "from sklearn.preprocessing import OneHotEncoder\n",
    "\n",
    "%matplotlib inline\n",
    "from google.colab import drive\n",
    "drive.mount('/content/gdrive')"
   ]
  },
  {
   "cell_type": "code",
   "execution_count": 6,
   "metadata": {
    "colab": {
     "base_uri": "https://localhost:8080/",
     "height": 53
    },
    "colab_type": "code",
    "id": "w-ZiOWw3889Z",
    "outputId": "acd04eeb-511f-413b-ac05-8944f75287d4"
   },
   "outputs": [
    {
     "name": "stdout",
     "output_type": "stream",
     "text": [
      "Index(['comment_text', 'toxic'], dtype='object')\n",
      "159571\n"
     ]
    }
   ],
   "source": [
    "TRAIN_DATA_FILE= 'gdrive/My Drive/dl/data/sentences_encoded.csv'\n",
    "\n",
    "train_df = pd.read_csv(TRAIN_DATA_FILE)\n",
    "print(train_df.columns)\n",
    "print(len(train_df['toxic']))"
   ]
  },
  {
   "cell_type": "code",
   "execution_count": 7,
   "metadata": {
    "colab": {
     "base_uri": "https://localhost:8080/",
     "height": 53
    },
    "colab_type": "code",
    "id": "G_xnkeg088_5",
    "outputId": "8783d929-901d-4cfb-a07f-f304c7cfae1e"
   },
   "outputs": [
    {
     "name": "stdout",
     "output_type": "stream",
     "text": [
      "loaded\n",
      "134053\n"
     ]
    }
   ],
   "source": [
    "x_train = np.array([sent.split() for sent in train_df['comment_text']])\n",
    "x_train = np.array([[int(word) for word in sent] for sent in x_train])\n",
    "y_train = train_df['toxic']\n",
    "print('loaded')\n",
    "\n",
    "MAX_SEQUENCE_LEN = x_train.shape[1]\n",
    "WORDS_IN_CORPORA = max([int(max(sent)) for sent in x_train]) + 1\n",
    "print(WORDS_IN_CORPORA)"
   ]
  },
  {
   "cell_type": "code",
   "execution_count": 0,
   "metadata": {
    "colab": {},
    "colab_type": "code",
    "id": "m7Qnc-j089Ci"
   },
   "outputs": [],
   "source": [
    "sequence_input = keras.layers.Input(shape=(MAX_SEQUENCE_LEN,), dtype='int32')"
   ]
  },
  {
   "cell_type": "code",
   "execution_count": 9,
   "metadata": {
    "colab": {
     "base_uri": "https://localhost:8080/",
     "height": 91
    },
    "colab_type": "code",
    "id": "HffMvYFx89EY",
    "outputId": "196fb869-db4e-41ef-b674-e989bc6c9f1a"
   },
   "outputs": [
    {
     "name": "stdout",
     "output_type": "stream",
     "text": [
      "WARNING:tensorflow:From /usr/local/lib/python3.6/dist-packages/tensorflow/python/ops/resource_variable_ops.py:435: colocate_with (from tensorflow.python.framework.ops) is deprecated and will be removed in a future version.\n",
      "Instructions for updating:\n",
      "Colocations handled automatically by placer.\n"
     ]
    }
   ],
   "source": [
    "embedded_sequences = keras.layers.Embedding(input_dim=WORDS_IN_CORPORA,\n",
    "                                            output_dim=100,\n",
    "                                            input_length=MAX_SEQUENCE_LEN)(sequence_input)"
   ]
  },
  {
   "cell_type": "code",
   "execution_count": 10,
   "metadata": {
    "colab": {
     "base_uri": "https://localhost:8080/",
     "height": 91
    },
    "colab_type": "code",
    "id": "7jR9qebd9Ckb",
    "outputId": "efaf1bbc-fd89-464c-a1c9-00224f7faa82"
   },
   "outputs": [
    {
     "name": "stdout",
     "output_type": "stream",
     "text": [
      "WARNING:tensorflow:From /usr/local/lib/python3.6/dist-packages/tensorflow/python/keras/layers/core.py:143: calling dropout (from tensorflow.python.ops.nn_ops) with keep_prob is deprecated and will be removed in a future version.\n",
      "Instructions for updating:\n",
      "Please use `rate` instead of `keep_prob`. Rate should be set to `rate = 1 - keep_prob`.\n"
     ]
    }
   ],
   "source": [
    "x = keras.layers.Conv1D(filters=128, kernel_size=5, activation='relu', padding='same')(embedded_sequences)\n",
    "x = keras.layers.BatchNormalization()(x)\n",
    "x = keras.layers.MaxPooling1D(pool_size=5)(x)\n",
    "x = keras.layers.Conv1D(filters=128, kernel_size=5, activation='relu', padding='same')(x)\n",
    "x = keras.layers.BatchNormalization()(x)\n",
    "x = keras.layers.MaxPooling1D(pool_size=5)(x)\n",
    "x = keras.layers.Conv1D(filters=128, kernel_size=5, activation='relu', padding='same')(x)\n",
    "x = keras.layers.Dropout(0.2)(x)\n",
    "x = keras.layers.BatchNormalization()(x)"
   ]
  },
  {
   "cell_type": "code",
   "execution_count": 0,
   "metadata": {
    "colab": {},
    "colab_type": "code",
    "id": "f9W8jUGy9Cmw"
   },
   "outputs": [],
   "source": [
    "x = keras.layers.GlobalMaxPool1D()(x)\n",
    "x = keras.layers.Flatten()(x)"
   ]
  },
  {
   "cell_type": "code",
   "execution_count": 0,
   "metadata": {
    "colab": {},
    "colab_type": "code",
    "id": "-h51D83I9CpJ"
   },
   "outputs": [],
   "source": [
    "x = keras.layers.Dense(128, activation='relu')(x)\n",
    "x = keras.layers.BatchNormalization()(x)\n",
    "sequence_output = keras.layers.Dense(2, activation='softmax')(x)"
   ]
  },
  {
   "cell_type": "code",
   "execution_count": 0,
   "metadata": {
    "colab": {},
    "colab_type": "code",
    "id": "_9lvqhSy9Crw"
   },
   "outputs": [],
   "source": [
    "model = keras.models.Model(inputs=[sequence_input], outputs=[sequence_output])"
   ]
  },
  {
   "cell_type": "code",
   "execution_count": 14,
   "metadata": {
    "colab": {
     "base_uri": "https://localhost:8080/",
     "height": 719
    },
    "colab_type": "code",
    "id": "kZax4Vct9CuL",
    "outputId": "51e3958b-a9b4-4b9d-a361-82399526cf4e"
   },
   "outputs": [
    {
     "name": "stdout",
     "output_type": "stream",
     "text": [
      "_________________________________________________________________\n",
      "Layer (type)                 Output Shape              Param #   \n",
      "=================================================================\n",
      "input_1 (InputLayer)         (None, 300)               0         \n",
      "_________________________________________________________________\n",
      "embedding (Embedding)        (None, 300, 100)          13405300  \n",
      "_________________________________________________________________\n",
      "conv1d (Conv1D)              (None, 300, 128)          64128     \n",
      "_________________________________________________________________\n",
      "batch_normalization_v1 (Batc (None, 300, 128)          512       \n",
      "_________________________________________________________________\n",
      "max_pooling1d (MaxPooling1D) (None, 60, 128)           0         \n",
      "_________________________________________________________________\n",
      "conv1d_1 (Conv1D)            (None, 60, 128)           82048     \n",
      "_________________________________________________________________\n",
      "batch_normalization_v1_1 (Ba (None, 60, 128)           512       \n",
      "_________________________________________________________________\n",
      "max_pooling1d_1 (MaxPooling1 (None, 12, 128)           0         \n",
      "_________________________________________________________________\n",
      "conv1d_2 (Conv1D)            (None, 12, 128)           82048     \n",
      "_________________________________________________________________\n",
      "dropout (Dropout)            (None, 12, 128)           0         \n",
      "_________________________________________________________________\n",
      "batch_normalization_v1_2 (Ba (None, 12, 128)           512       \n",
      "_________________________________________________________________\n",
      "global_max_pooling1d (Global (None, 128)               0         \n",
      "_________________________________________________________________\n",
      "flatten (Flatten)            (None, 128)               0         \n",
      "_________________________________________________________________\n",
      "dense (Dense)                (None, 128)               16512     \n",
      "_________________________________________________________________\n",
      "batch_normalization_v1_3 (Ba (None, 128)               512       \n",
      "_________________________________________________________________\n",
      "dense_1 (Dense)              (None, 2)                 258       \n",
      "=================================================================\n",
      "Total params: 13,652,342\n",
      "Trainable params: 13,651,318\n",
      "Non-trainable params: 1,024\n",
      "_________________________________________________________________\n"
     ]
    }
   ],
   "source": [
    "model.summary()"
   ]
  },
  {
   "cell_type": "code",
   "execution_count": 0,
   "metadata": {
    "colab": {},
    "colab_type": "code",
    "id": "3UopTW9U9CxH"
   },
   "outputs": [],
   "source": [
    "model.compile(loss='sparse_categorical_crossentropy',\n",
    "              optimizer='adam', \n",
    "              metrics=[\"accuracy\"])"
   ]
  },
  {
   "cell_type": "code",
   "execution_count": 17,
   "metadata": {
    "colab": {
     "base_uri": "https://localhost:8080/",
     "height": 107
    },
    "colab_type": "code",
    "id": "4c72ckhX9CzE",
    "outputId": "2804a9bc-0182-4b0b-8961-fa49a4ea011b"
   },
   "outputs": [
    {
     "name": "stdout",
     "output_type": "stream",
     "text": [
      "(120000, 300)\n",
      "(120000,)\n",
      "(39571, 300)\n",
      "(39571,)\n",
      "11420\n"
     ]
    }
   ],
   "source": [
    "x_train_to_use = x_train[:120000]\n",
    "y_train_to_use = y_train[:120000]\n",
    "x_test_to_use = x_train[120000:]\n",
    "y_test_to_use = y_train[120000:]\n",
    "\n",
    "print(x_train_to_use.shape)\n",
    "print(y_train_to_use.shape)\n",
    "print(x_test_to_use.shape)\n",
    "print(y_test_to_use.shape)\n",
    "print(sum(y_train_to_use))"
   ]
  },
  {
   "cell_type": "code",
   "execution_count": 18,
   "metadata": {
    "colab": {
     "base_uri": "https://localhost:8080/",
     "height": 305
    },
    "colab_type": "code",
    "id": "ueK8_iHT89Gz",
    "outputId": "2a0d9cf7-72c6-4a8d-e351-713c6000d9c8"
   },
   "outputs": [
    {
     "name": "stdout",
     "output_type": "stream",
     "text": [
      "Train on 120000 samples, validate on 39571 samples\n",
      "WARNING:tensorflow:From /usr/local/lib/python3.6/dist-packages/tensorflow/python/ops/math_ops.py:3066: to_int32 (from tensorflow.python.ops.math_ops) is deprecated and will be removed in a future version.\n",
      "Instructions for updating:\n",
      "Use tf.cast instead.\n",
      "WARNING:tensorflow:From /usr/local/lib/python3.6/dist-packages/tensorflow/python/ops/math_grad.py:102: div (from tensorflow.python.ops.math_ops) is deprecated and will be removed in a future version.\n",
      "Instructions for updating:\n",
      "Deprecated in favor of operator or tf.math.divide.\n",
      "Epoch 1/4\n",
      "120000/120000 [==============================] - 1452s 12ms/sample - loss: 0.1464 - acc: 0.9473 - val_loss: 0.1157 - val_acc: 0.9601\n",
      "Epoch 2/4\n",
      "120000/120000 [==============================] - 1452s 12ms/sample - loss: 0.0637 - acc: 0.9767 - val_loss: 0.1033 - val_acc: 0.9640\n",
      "Epoch 3/4\n",
      "120000/120000 [==============================] - 1450s 12ms/sample - loss: 0.0362 - acc: 0.9876 - val_loss: 0.1125 - val_acc: 0.9618\n",
      "Epoch 4/4\n",
      "120000/120000 [==============================] - 1603s 13ms/sample - loss: 0.0144 - acc: 0.9958 - val_loss: 0.1307 - val_acc: 0.9584\n"
     ]
    },
    {
     "data": {
      "text/plain": [
       "<tensorflow.python.keras.callbacks.History at 0x7f8ed30ecef0>"
      ]
     },
     "execution_count": 18,
     "metadata": {
      "tags": []
     },
     "output_type": "execute_result"
    }
   ],
   "source": [
    "\n",
    "model.fit(x_train_to_use, y_train_to_use, epochs=4, batch_size=32,\n",
    "          validation_data=(x_test_to_use, y_test_to_use),\n",
    "          callbacks=[tf.keras.callbacks.LearningRateScheduler(schedule = lambda x: 0.001 if x == 0 else 0.0001)])"
   ]
  },
  {
   "cell_type": "code",
   "execution_count": 19,
   "metadata": {
    "colab": {
     "base_uri": "https://localhost:8080/",
     "height": 35
    },
    "colab_type": "code",
    "id": "Uqw97KhEl0Xh",
    "outputId": "a31960db-c57b-4662-d7b9-b5b7f93fb556"
   },
   "outputs": [
    {
     "name": "stdout",
     "output_type": "stream",
     "text": [
      "Saved model to disk\n"
     ]
    }
   ],
   "source": [
    "model_json = model.to_json()\n",
    "with open(\"gdrive/My Drive/dl/models/model_easier.json\", \"w\") as json_file:\n",
    "    json_file.write(model_json)\n",
    "# serialize weights to HDF5\n",
    "model.save_weights(\"gdrive/My Drive/dl/models/model_easier.h5\")\n",
    "print(\"Saved model to disk\")"
   ]
  },
  {
   "cell_type": "code",
   "execution_count": 20,
   "metadata": {
    "colab": {
     "base_uri": "https://localhost:8080/",
     "height": 53
    },
    "colab_type": "code",
    "id": "i6WFv0GLOgF_",
    "outputId": "ef68ce08-3a3c-4e9e-e405-2e21530b24f9"
   },
   "outputs": [
    {
     "name": "stderr",
     "output_type": "stream",
     "text": [
      "Using TensorFlow backend.\n"
     ]
    },
    {
     "name": "stdout",
     "output_type": "stream",
     "text": [
      "Loaded model from disk\n"
     ]
    }
   ],
   "source": [
    "from keras.models import model_from_json\n",
    "\n",
    "json_file = open('gdrive/My Drive/dl/models/model_easier.json', 'r')\n",
    "loaded_model_json = json_file.read()\n",
    "json_file.close()\n",
    "loaded_model = tf.keras.models.model_from_json(loaded_model_json)\n",
    "# load weights into new model\n",
    "loaded_model.load_weights(\"gdrive/My Drive/dl/models/model_easier.h5\")\n",
    "print(\"Loaded model from disk\")"
   ]
  },
  {
   "cell_type": "code",
   "execution_count": 0,
   "metadata": {
    "colab": {},
    "colab_type": "code",
    "id": "ydZrw3EenFzo"
   },
   "outputs": [],
   "source": [
    "all_models_path = 'models'\n",
    "MODEL_NAME = \"model_easier\""
   ]
  },
  {
   "cell_type": "code",
   "execution_count": 0,
   "metadata": {
    "colab": {},
    "colab_type": "code",
    "id": "I1f6IyhsUCGr"
   },
   "outputs": [],
   "source": [
    "model_version = int(time.time())\n",
    "model_path = os.path.join(all_models_path, MODEL_NAME, str(model_version))\n",
    "os.makedirs(model_path)"
   ]
  },
  {
   "cell_type": "code",
   "execution_count": 0,
   "metadata": {
    "colab": {},
    "colab_type": "code",
    "id": "A-gbQ1llUQSh"
   },
   "outputs": [],
   "source": []
  }
 ],
 "metadata": {
  "colab": {
   "name": "training_easier.ipynb",
   "provenance": [],
   "version": "0.3.2"
  },
  "kernelspec": {
   "display_name": "Python 3",
   "language": "python",
   "name": "python3"
  },
  "language_info": {
   "codemirror_mode": {
    "name": "ipython",
    "version": 3
   },
   "file_extension": ".py",
   "mimetype": "text/x-python",
   "name": "python",
   "nbconvert_exporter": "python",
   "pygments_lexer": "ipython3",
   "version": "3.6.7"
  }
 },
 "nbformat": 4,
 "nbformat_minor": 1
}
